{
 "cells": [
  {
   "cell_type": "code",
   "execution_count": 1,
   "metadata": {},
   "outputs": [],
   "source": [
    "import pandas as pd"
   ]
  },
  {
   "cell_type": "code",
   "execution_count": 70,
   "metadata": {},
   "outputs": [],
   "source": [
    "df=pd.read_csv('ifood_df.csv')"
   ]
  },
  {
   "cell_type": "code",
   "execution_count": null,
   "metadata": {},
   "outputs": [],
   "source": []
  },
  {
   "cell_type": "code",
   "execution_count": 65,
   "metadata": {},
   "outputs": [],
   "source": [
    "\n",
    "def group_col(df,list_col,new_col):\n",
    "    x=2\n",
    "    for col in list_col[1:]:\n",
    "        df[col].replace(1,x,inplace=True)\n",
    "        x+=1\n",
    "    df[new_col]=df[list_col].sum(axis=1)\n",
    "    for i in range(1,len(list_col)+1):\n",
    "        df[new_col].replace(i,list_col[i-1].split('_')[-1],inplace=True)\n",
    "    df.drop(columns=list_col,inplace=True)\n",
    "\n",
    "\n",
    "\n",
    "ls=['education_2n Cycle','education_Basic','education_Graduation','education_Master','education_PhD']   \n",
    "group_col(df,ls,'education_level')"
   ]
  },
  {
   "cell_type": "code",
   "execution_count": 58,
   "metadata": {},
   "outputs": [
    {
     "data": {
      "text/plain": [
       "(2205, 35)"
      ]
     },
     "execution_count": 58,
     "metadata": {},
     "output_type": "execute_result"
    }
   ],
   "source": [
    "df.shape"
   ]
  },
  {
   "cell_type": "code",
   "execution_count": 68,
   "metadata": {},
   "outputs": [
    {
     "data": {
      "text/plain": [
       "array(['Graduation', 'PhD', 'Master', 'Basic', '2n Cycle'], dtype=object)"
      ]
     },
     "execution_count": 68,
     "metadata": {},
     "output_type": "execute_result"
    }
   ],
   "source": [
    "df['education_level'].unique()\n",
    "# 'education_level'.split('_')[-1]"
   ]
  },
  {
   "cell_type": "code",
   "execution_count": 69,
   "metadata": {},
   "outputs": [
    {
     "name": "stdout",
     "output_type": "stream",
     "text": [
      "['abx']\n"
     ]
    }
   ],
   "source": [
    "# ls=['education_2n Cycle','education_Basic','education_Graduation','education_Master','education_PhD']   \n",
    "# df[ls].sum(axis=1)\n",
    "# df[ls].sum(axis=1)\n",
    "\n",
    "l='abx'.split('-')\n",
    "print(l)"
   ]
  }
 ],
 "metadata": {
  "kernelspec": {
   "display_name": "base",
   "language": "python",
   "name": "python3"
  },
  "language_info": {
   "codemirror_mode": {
    "name": "ipython",
    "version": 3
   },
   "file_extension": ".py",
   "mimetype": "text/x-python",
   "name": "python",
   "nbconvert_exporter": "python",
   "pygments_lexer": "ipython3",
   "version": "3.10.9"
  },
  "orig_nbformat": 4
 },
 "nbformat": 4,
 "nbformat_minor": 2
}
